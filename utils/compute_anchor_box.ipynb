{
 "cells": [
  {
   "cell_type": "markdown",
   "metadata": {},
   "source": [
    "This notebook uses K-means algorithm to compute k anchor box sizes by outputing the average widths and heights of bounding boxes in each cluster."
   ]
  },
  {
   "cell_type": "code",
   "execution_count": 1,
   "metadata": {},
   "outputs": [],
   "source": [
    "import os\n",
    "\n",
    "path = '../annotations_train'\n",
    "ann_files = [os.path.join(path, f) for f in os.listdir(path) if os.path.isfile(os.path.join(path, f))]"
   ]
  },
  {
   "cell_type": "code",
   "execution_count": 2,
   "metadata": {},
   "outputs": [],
   "source": [
    "import xml.etree.ElementTree as ET\n",
    "\n",
    "ws = []\n",
    "hs = []\n",
    "for i, file in enumerate(ann_files):\n",
    "        # actual parsing \n",
    "        in_file = open(file)\n",
    "        tree=ET.parse(in_file)\n",
    "        root = tree.getroot()\n",
    "        \n",
    "        for obj in root.iter('object'):\n",
    "            name = obj.find('name').text\n",
    "\n",
    "            xmlbox = obj.find('bndbox')\n",
    "            xn = int(float(xmlbox.find('xmin').text))\n",
    "            xx = int(float(xmlbox.find('xmax').text))\n",
    "            yn = int(float(xmlbox.find('ymin').text))\n",
    "            yx = int(float(xmlbox.find('ymax').text))\n",
    "            \n",
    "            w = xx - xn\n",
    "            h = yx - yn\n",
    "            ws.append(w)\n",
    "            hs.append(h)"
   ]
  },
  {
   "cell_type": "code",
   "execution_count": 3,
   "metadata": {},
   "outputs": [
    {
     "name": "stdout",
     "output_type": "stream",
     "text": [
      "<class 'pandas.core.frame.DataFrame'>\n",
      "RangeIndex: 800 entries, 0 to 799\n",
      "Data columns (total 2 columns):\n",
      "w    800 non-null int64\n",
      "h    800 non-null int64\n",
      "dtypes: int64(2)\n",
      "memory usage: 12.6 KB\n"
     ]
    }
   ],
   "source": [
    "import pandas as pd\n",
    "\n",
    "d = {'w': ws, 'h': hs}\n",
    "df = pd.DataFrame(data=d)\n",
    "df.info()"
   ]
  },
  {
   "cell_type": "code",
   "execution_count": 4,
   "metadata": {},
   "outputs": [],
   "source": [
    "n_grid = 13\n",
    "W = 800\n",
    "H = 533\n",
    "grid_w = W / n_grid\n",
    "grid_h = H / n_grid"
   ]
  },
  {
   "cell_type": "code",
   "execution_count": 5,
   "metadata": {},
   "outputs": [
    {
     "name": "stdout",
     "output_type": "stream",
     "text": [
      "k = 1\n",
      "[[6.88670937 5.81518293]]\n",
      "[1.77750632]\n",
      "avg dist = 98.3352180436405\n",
      "k = 2\n",
      "[[8.20402848 6.80191417]\n",
      " [5.60191667 4.85281542]]\n",
      "[1.81033434 1.73262928]\n",
      "avg dist = 60.96775771899808\n",
      "k = 3\n",
      "[[4.98782143 4.27317073]\n",
      " [8.66702778 7.09566396]\n",
      " [6.63071094 5.74672256]]\n",
      "[1.75195695 1.83332697 1.73181957]\n",
      "avg dist = 49.24330466926945\n",
      "k = 4\n",
      "[[6.03461977 5.34628582]\n",
      " [4.68806481 3.86142728]\n",
      " [9.12093558 7.36360916]\n",
      " [7.54251569 6.37871211]]\n",
      "[1.69418377 1.82225237 1.85913718 1.77478602]\n",
      "avg dist = 42.43370298899423\n",
      "k = 5\n",
      "[[7.59069137 6.17332182]\n",
      " [4.58666667 3.76943923]\n",
      " [9.1336034  7.31074977]\n",
      " [5.80571078 8.03538977]\n",
      " [6.07170594 5.00739704]]\n",
      "[1.84554736 1.82634664 1.8751802  1.08445423 1.81995848]\n",
      "avg dist = 38.71412432156099\n",
      "k = 6\n",
      "[[8.22476744 6.71809416]\n",
      " [5.72353261 8.09703075]\n",
      " [5.87025246 4.89859426]\n",
      " [4.52478972 3.70731707]\n",
      " [9.50658854 7.53328252]\n",
      " [7.06237926 5.73794346]]\n",
      "[1.83755488 1.06096523 1.79865591 1.83189867 1.89410138 1.84738558]\n",
      "avg dist = 34.43185951444302\n",
      "k = 7\n",
      "[[4.52570238 3.67038328]\n",
      " [7.07311429 5.77519164]\n",
      " [8.26341518 6.67494193]\n",
      " [5.9091206  4.85255546]\n",
      " [9.5405163  7.51696713]\n",
      " [5.20040625 7.02256098]\n",
      " [6.97434524 9.3612079 ]]\n",
      "[1.85070565 1.83826049 1.85812471 1.82774298 1.90498695 1.11148737\n",
      " 1.11823821]\n",
      "avg dist = 32.63335633225348\n",
      "k = 8\n",
      "[[6.37181677 5.15497652]\n",
      " [8.60673387 6.82769473]\n",
      " [4.24100746 3.42446305]\n",
      " [7.40442018 6.05245372]\n",
      " [5.30628378 7.19248517]\n",
      " [9.84425    7.79645233]\n",
      " [7.0993     9.1404878 ]\n",
      " [5.38008396 4.52475428]]\n",
      "[1.85523686 1.89202581 1.85882853 1.83621004 1.10732289 1.89517092\n",
      " 1.16575942 1.78466551]\n",
      "avg dist = 29.991691739189168\n",
      "k = 9\n",
      "[[6.10580975 4.98450683]\n",
      " [8.84669956 7.0652546 ]\n",
      " [5.13825    4.27937916]\n",
      " [7.9925625  6.3695122 ]\n",
      " [5.22121528 7.14837398]\n",
      " [4.06046875 3.25304878]\n",
      " [7.02439189 5.81147001]\n",
      " [7.00153409 9.29490022]\n",
      " [9.98127907 7.93079977]]\n",
      "[1.83858559 1.87938709 1.80217617 1.88340034 1.09629419 1.87347704\n",
      " 1.81420145 1.13060592 1.88900014]\n",
      "avg dist = 27.924839409437254\n",
      "k = 10\n",
      "[[6.10701531 4.91786959]\n",
      " [8.85073661 7.04965157]\n",
      " [5.16434028 4.34598013]\n",
      " [7.14857    5.62946341]\n",
      " [4.96275    7.38926829]\n",
      " [4.11768868 3.29176254]\n",
      " [9.95534091 7.95731707]\n",
      " [6.992375   9.43902439]\n",
      " [6.39925    6.47073171]\n",
      " [8.00760776 6.42220353]]\n",
      "[1.8638664  1.88440628 1.7835689  1.90596513 1.00805387 1.8775339\n",
      " 1.87781261 1.1118863  1.48435733 1.87146412]\n",
      "avg dist = 26.56598860161188\n"
     ]
    }
   ],
   "source": [
    "import numpy as np\n",
    "from sklearn import cluster\n",
    "\n",
    "for k in range(1, 11):\n",
    "    model = cluster.KMeans(n_clusters=k, random_state=0).fit(df)\n",
    "    dist = model.transform(df)\n",
    "    min_dist = [min(d) for d in dist]\n",
    "    print('k = {}'.format(k))\n",
    "    print(model.cluster_centers_ / [grid_w, grid_h])\n",
    "    print(model.cluster_centers_[:,0]/model.cluster_centers_[:,1])\n",
    "    print('avg dist = {}'.format(np.average(min_dist)))"
   ]
  },
  {
   "cell_type": "code",
   "execution_count": null,
   "metadata": {},
   "outputs": [],
   "source": []
  }
 ],
 "metadata": {
  "kernelspec": {
   "display_name": "Python 3",
   "language": "python",
   "name": "python3"
  },
  "language_info": {
   "codemirror_mode": {
    "name": "ipython",
    "version": 3
   },
   "file_extension": ".py",
   "mimetype": "text/x-python",
   "name": "python",
   "nbconvert_exporter": "python",
   "pygments_lexer": "ipython3",
   "version": "3.6.5"
  }
 },
 "nbformat": 4,
 "nbformat_minor": 2
}
