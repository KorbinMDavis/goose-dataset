{
 "cells": [
  {
   "cell_type": "markdown",
   "metadata": {},
   "source": [
    "This notebook randomly splits the images and their corresponding annotations into training and testing sets at a specified ratio. It creates four new directories, *images_train*, *annotations_train*, *images_test*, *annotations_test*, corresponding to the training and the testing set. "
   ]
  },
  {
   "cell_type": "code",
   "execution_count": 1,
   "metadata": {},
   "outputs": [],
   "source": [
    "import numpy as np\n",
    "import os\n",
    "import shutil"
   ]
  },
  {
   "cell_type": "code",
   "execution_count": 2,
   "metadata": {},
   "outputs": [],
   "source": [
    "# Number of images in the dataset\n",
    "n_data = 1000\n",
    "\n",
    "# Ratio of testing data (MODIFY IF NEEDED)\n",
    "test_ratio = 0.2"
   ]
  },
  {
   "cell_type": "code",
   "execution_count": 3,
   "metadata": {},
   "outputs": [],
   "source": [
    "if os.path.isdir('../images_test'):\n",
    "    shutil.rmtree('../images_test')\n",
    "if os.path.isdir('../images_train'):\n",
    "    shutil.rmtree('../images_train')\n",
    "if os.path.isdir('../annotations_test'):    \n",
    "    shutil.rmtree('../annotations_test')\n",
    "if os.path.isdir('../annotations_train'):\n",
    "    shutil.rmtree('../annotations_train')\n",
    "os.mkdir('../images_test')\n",
    "os.mkdir('../images_train')\n",
    "os.mkdir('../annotations_test')\n",
    "os.mkdir('../annotations_train')"
   ]
  },
  {
   "cell_type": "code",
   "execution_count": 4,
   "metadata": {},
   "outputs": [],
   "source": [
    "n_test = int(n_data * test_ratio)\n",
    "arr = np.random.permutation(n_data) + 1\n",
    "\n",
    "for i in range(n_test):\n",
    "    file = 'goose-mugshot-{0:04d}'.format(arr[i])\n",
    "    shutil.copy('../images/' + file + '.jpg', '../images_test/' + file + '.jpg')\n",
    "    shutil.copy('../annotations/' + file + '.xml', '../annotations_test/' + file + '.xml')\n",
    "for i in range(n_test, n_data):\n",
    "    file = 'goose-mugshot-{0:04d}'.format(arr[i])\n",
    "    shutil.copy('../images/' + file + '.jpg', '../images_train/' + file + '.jpg')\n",
    "    shutil.copy('../annotations/' + file + '.xml', '../annotations_train/' + file + '.xml')"
   ]
  },
  {
   "cell_type": "code",
   "execution_count": null,
   "metadata": {},
   "outputs": [],
   "source": []
  }
 ],
 "metadata": {
  "kernelspec": {
   "display_name": "Python 3",
   "language": "python",
   "name": "python3"
  },
  "language_info": {
   "codemirror_mode": {
    "name": "ipython",
    "version": 3
   },
   "file_extension": ".py",
   "mimetype": "text/x-python",
   "name": "python",
   "nbconvert_exporter": "python",
   "pygments_lexer": "ipython3",
   "version": "3.6.5"
  }
 },
 "nbformat": 4,
 "nbformat_minor": 2
}
