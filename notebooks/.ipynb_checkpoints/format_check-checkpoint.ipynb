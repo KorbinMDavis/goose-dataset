{
 "cells": [
  {
   "cell_type": "markdown",
   "metadata": {},
   "source": [
    "This notebook performs a sanity check on the image sizes."
   ]
  },
  {
   "cell_type": "code",
   "execution_count": 1,
   "metadata": {},
   "outputs": [],
   "source": [
    "import os\n",
    "\n",
    "path = '../annotations'\n",
    "ann_files = [os.path.join(path, f) for f in os.listdir(path) if os.path.isfile(os.path.join(path, f))]"
   ]
  },
  {
   "cell_type": "code",
   "execution_count": 2,
   "metadata": {},
   "outputs": [],
   "source": [
    "import xml.etree.ElementTree as ET\n",
    "\n",
    "for i, file in enumerate(ann_files):\n",
    "        # actual parsing \n",
    "        in_file = open(file)\n",
    "        tree=ET.parse(in_file)\n",
    "        root = tree.getroot() \n",
    "        imsize = root.find('size')\n",
    "        w = int(imsize.find('width').text)\n",
    "        h = int(imsize.find('height').text)\n",
    "        \n",
    "        if w != 800:\n",
    "            print(file, ', w = ', w)\n",
    "        if h != 533:\n",
    "            print(file, ', h = ', h)"
   ]
  },
  {
   "cell_type": "code",
   "execution_count": null,
   "metadata": {},
   "outputs": [],
   "source": []
  }
 ],
 "metadata": {
  "kernelspec": {
   "display_name": "Python 3",
   "language": "python",
   "name": "python3"
  },
  "language_info": {
   "codemirror_mode": {
    "name": "ipython",
    "version": 3
   },
   "file_extension": ".py",
   "mimetype": "text/x-python",
   "name": "python",
   "nbconvert_exporter": "python",
   "pygments_lexer": "ipython3",
   "version": "3.6.5"
  }
 },
 "nbformat": 4,
 "nbformat_minor": 2
}
