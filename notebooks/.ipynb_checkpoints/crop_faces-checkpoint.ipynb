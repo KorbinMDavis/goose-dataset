{
 "cells": [
  {
   "cell_type": "markdown",
   "metadata": {},
   "source": [
    "This notebook creates a new directory, *cropped_images*, of images by cropping the bounding boxes in each original image."
   ]
  },
  {
   "cell_type": "code",
   "execution_count": 1,
   "metadata": {},
   "outputs": [],
   "source": [
    "import os\n",
    "import shutil\n",
    "\n",
    "img_path = '../images'\n",
    "img_files = [os.path.join(img_path, f) for f in os.listdir(img_path) if os.path.isfile(os.path.join(img_path, f))]\n",
    "ann_path = '../annotations'\n",
    "ann_files = [os.path.join(ann_path, f) for f in os.listdir(ann_path) if os.path.isfile(os.path.join(ann_path, f))]\n",
    "\n",
    "cropped_img_path = '../cropped_images'\n",
    "if os.path.isdir(cropped_img_path):\n",
    "    shutil.rmtree(cropped_img_path)\n",
    "os.mkdir(cropped_img_path)"
   ]
  },
  {
   "cell_type": "code",
   "execution_count": 2,
   "metadata": {},
   "outputs": [],
   "source": [
    "import xml.etree.ElementTree as ET\n",
    "from skimage import io\n",
    "\n",
    "margin = 10\n",
    "for i, file in enumerate(ann_files):\n",
    "        # Open image\n",
    "        img = io.imread(img_files[i])\n",
    "    \n",
    "        # Read XML\n",
    "        in_file = open(file)\n",
    "        tree=ET.parse(in_file)\n",
    "        root = tree.getroot() \n",
    "        imsize = root.find('size')\n",
    "        w = int(imsize.find('width').text)\n",
    "        h = int(imsize.find('height').text)\n",
    "        \n",
    "        j = 0\n",
    "        for obj in root.iter('object'):\n",
    "            name = obj.find('name').text\n",
    "\n",
    "            xmlbox = obj.find('bndbox')\n",
    "            xn = int(float(xmlbox.find('xmin').text))\n",
    "            xx = int(float(xmlbox.find('xmax').text))\n",
    "            yn = int(float(xmlbox.find('ymin').text))\n",
    "            yx = int(float(xmlbox.find('ymax').text))\n",
    "            \n",
    "            xn = max(0, xn - margin)\n",
    "            xx = min(w, xx + margin)\n",
    "            yn = max(0, yn - margin)\n",
    "            yx = min(h, yx + margin)\n",
    "            \n",
    "            cropped_img = img[yn:yx,xn:xx]\n",
    "            cropped_img_file = os.path.join(cropped_img_path, img_files[i][len(img_path) + 1:])\n",
    "            if (j > 0):\n",
    "                cropped_img_file = cropped_img_file[:-4] + '-%d'.format(j) + cropped_img_file[-4:]\n",
    "            io.imsave(cropped_img_file, cropped_img)\n",
    "            j = j + 1"
   ]
  },
  {
   "cell_type": "code",
   "execution_count": null,
   "metadata": {},
   "outputs": [],
   "source": []
  }
 ],
 "metadata": {
  "kernelspec": {
   "display_name": "Python 3",
   "language": "python",
   "name": "python3"
  },
  "language_info": {
   "codemirror_mode": {
    "name": "ipython",
    "version": 3
   },
   "file_extension": ".py",
   "mimetype": "text/x-python",
   "name": "python",
   "nbconvert_exporter": "python",
   "pygments_lexer": "ipython3",
   "version": "3.6.5"
  }
 },
 "nbformat": 4,
 "nbformat_minor": 2
}
